{
 "cells": [
  {
   "cell_type": "code",
   "execution_count": 25,
   "id": "ec88203d",
   "metadata": {},
   "outputs": [],
   "source": [
    "import pandas as pd"
   ]
  },
  {
   "cell_type": "code",
   "execution_count": 26,
   "id": "2cbc5a11",
   "metadata": {},
   "outputs": [],
   "source": [
    "from nsepy import get_history as gh\n",
    "import datetime as dt"
   ]
  },
  {
   "cell_type": "code",
   "execution_count": 27,
   "id": "660cc878",
   "metadata": {},
   "outputs": [
    {
     "name": "stdout",
     "output_type": "stream",
     "text": [
      "[*********************100%%**********************]  1 of 1 completed\n"
     ]
    }
   ],
   "source": [
    "import yfinance as yf\n",
    "import datetime as dt\n",
    "\n",
    "symbol = 'TATACOFFEE.NS'\n",
    "start = '2013-01-01'\n",
    "end ='2021-01-10'\n",
    "\n",
    "# Retrieve historical stock data from Yahoo Finance\n",
    "stock_data = yf.download(symbol, start=start, end=end)"
   ]
  },
  {
   "cell_type": "code",
   "execution_count": 28,
   "id": "9caa4f36",
   "metadata": {},
   "outputs": [],
   "source": [
    "stock_data=stock_data[[\"Open\", \"High\", \"Low\", \"Close\"]]"
   ]
  },
  {
   "cell_type": "code",
   "execution_count": 29,
   "id": "a870bab0",
   "metadata": {},
   "outputs": [
    {
     "data": {
      "text/html": [
       "<div>\n",
       "<style scoped>\n",
       "    .dataframe tbody tr th:only-of-type {\n",
       "        vertical-align: middle;\n",
       "    }\n",
       "\n",
       "    .dataframe tbody tr th {\n",
       "        vertical-align: top;\n",
       "    }\n",
       "\n",
       "    .dataframe thead th {\n",
       "        text-align: right;\n",
       "    }\n",
       "</style>\n",
       "<table border=\"1\" class=\"dataframe\">\n",
       "  <thead>\n",
       "    <tr style=\"text-align: right;\">\n",
       "      <th></th>\n",
       "      <th>Open</th>\n",
       "      <th>High</th>\n",
       "      <th>Low</th>\n",
       "      <th>Close</th>\n",
       "    </tr>\n",
       "    <tr>\n",
       "      <th>Date</th>\n",
       "      <th></th>\n",
       "      <th></th>\n",
       "      <th></th>\n",
       "      <th></th>\n",
       "    </tr>\n",
       "  </thead>\n",
       "  <tbody>\n",
       "    <tr>\n",
       "      <th>2013-01-01</th>\n",
       "      <td>141.059998</td>\n",
       "      <td>142.789993</td>\n",
       "      <td>140.830002</td>\n",
       "      <td>141.509995</td>\n",
       "    </tr>\n",
       "    <tr>\n",
       "      <th>2013-01-02</th>\n",
       "      <td>142.100006</td>\n",
       "      <td>162.660004</td>\n",
       "      <td>141.615005</td>\n",
       "      <td>160.740005</td>\n",
       "    </tr>\n",
       "    <tr>\n",
       "      <th>2013-01-03</th>\n",
       "      <td>163.255005</td>\n",
       "      <td>167.389999</td>\n",
       "      <td>161.304993</td>\n",
       "      <td>162.619995</td>\n",
       "    </tr>\n",
       "    <tr>\n",
       "      <th>2013-01-04</th>\n",
       "      <td>162.774994</td>\n",
       "      <td>162.774994</td>\n",
       "      <td>157.460007</td>\n",
       "      <td>157.904999</td>\n",
       "    </tr>\n",
       "    <tr>\n",
       "      <th>2013-01-07</th>\n",
       "      <td>158.000000</td>\n",
       "      <td>163.949997</td>\n",
       "      <td>156.550003</td>\n",
       "      <td>159.565002</td>\n",
       "    </tr>\n",
       "    <tr>\n",
       "      <th>...</th>\n",
       "      <td>...</td>\n",
       "      <td>...</td>\n",
       "      <td>...</td>\n",
       "      <td>...</td>\n",
       "    </tr>\n",
       "    <tr>\n",
       "      <th>2021-01-04</th>\n",
       "      <td>109.000000</td>\n",
       "      <td>110.000000</td>\n",
       "      <td>107.550003</td>\n",
       "      <td>108.699997</td>\n",
       "    </tr>\n",
       "    <tr>\n",
       "      <th>2021-01-05</th>\n",
       "      <td>107.550003</td>\n",
       "      <td>108.699997</td>\n",
       "      <td>106.500000</td>\n",
       "      <td>107.849998</td>\n",
       "    </tr>\n",
       "    <tr>\n",
       "      <th>2021-01-06</th>\n",
       "      <td>108.000000</td>\n",
       "      <td>108.849998</td>\n",
       "      <td>106.000000</td>\n",
       "      <td>106.650002</td>\n",
       "    </tr>\n",
       "    <tr>\n",
       "      <th>2021-01-07</th>\n",
       "      <td>107.550003</td>\n",
       "      <td>107.650002</td>\n",
       "      <td>105.900002</td>\n",
       "      <td>106.199997</td>\n",
       "    </tr>\n",
       "    <tr>\n",
       "      <th>2021-01-08</th>\n",
       "      <td>107.000000</td>\n",
       "      <td>108.199997</td>\n",
       "      <td>105.650002</td>\n",
       "      <td>106.300003</td>\n",
       "    </tr>\n",
       "  </tbody>\n",
       "</table>\n",
       "<p>1978 rows × 4 columns</p>\n",
       "</div>"
      ],
      "text/plain": [
       "                  Open        High         Low       Close\n",
       "Date                                                      \n",
       "2013-01-01  141.059998  142.789993  140.830002  141.509995\n",
       "2013-01-02  142.100006  162.660004  141.615005  160.740005\n",
       "2013-01-03  163.255005  167.389999  161.304993  162.619995\n",
       "2013-01-04  162.774994  162.774994  157.460007  157.904999\n",
       "2013-01-07  158.000000  163.949997  156.550003  159.565002\n",
       "...                ...         ...         ...         ...\n",
       "2021-01-04  109.000000  110.000000  107.550003  108.699997\n",
       "2021-01-05  107.550003  108.699997  106.500000  107.849998\n",
       "2021-01-06  108.000000  108.849998  106.000000  106.650002\n",
       "2021-01-07  107.550003  107.650002  105.900002  106.199997\n",
       "2021-01-08  107.000000  108.199997  105.650002  106.300003\n",
       "\n",
       "[1978 rows x 4 columns]"
      ]
     },
     "execution_count": 29,
     "metadata": {},
     "output_type": "execute_result"
    }
   ],
   "source": [
    "stock_data"
   ]
  },
  {
   "cell_type": "code",
   "execution_count": 30,
   "id": "40886706",
   "metadata": {},
   "outputs": [],
   "source": [
    "column=\"Close\""
   ]
  },
  {
   "cell_type": "code",
   "execution_count": 31,
   "id": "cf0394ce",
   "metadata": {},
   "outputs": [
    {
     "name": "stdout",
     "output_type": "stream",
     "text": [
      "Len: (1978, 1)\n"
     ]
    }
   ],
   "source": [
    "from sklearn.preprocessing import MinMaxScaler\n",
    "Ms=MinMaxScaler()\n",
    "data1=Ms.fit_transform(stock_data[[column]])\n",
    "print(\"Len:\",data1.shape)"
   ]
  },
  {
   "cell_type": "code",
   "execution_count": 32,
   "id": "8688606d",
   "metadata": {},
   "outputs": [
    {
     "data": {
      "text/plain": [
       "1978"
      ]
     },
     "execution_count": 32,
     "metadata": {},
     "output_type": "execute_result"
    }
   ],
   "source": [
    "len(data1)"
   ]
  },
  {
   "cell_type": "code",
   "execution_count": 33,
   "id": "7ceb49e0",
   "metadata": {},
   "outputs": [
    {
     "name": "stdout",
     "output_type": "stream",
     "text": [
      "1582\n",
      "X_train length: (1582, 1)\n",
      "X_test length: (396, 1)\n",
      "X_train length: (1582, 1)\n",
      "X_test length: (396, 1)\n"
     ]
    }
   ],
   "source": [
    "training_size=round(len(data1)*0.80)\n",
    "print(training_size)\n",
    "X_train=data1[:training_size]\n",
    "X_test=data1[training_size:]\n",
    "print(\"X_train length:\",X_train.shape)\n",
    "print(\"X_test length:\",X_test.shape)\n",
    "y_train=data1[:training_size]\n",
    "y_test=data1[training_size:]\n",
    "print(\"X_train length:\",X_train.shape)\n",
    "print(\"X_test length:\",X_test.shape)"
   ]
  },
  {
   "cell_type": "code",
   "execution_count": 34,
   "id": "ccd0ddec",
   "metadata": {},
   "outputs": [
    {
     "name": "stdout",
     "output_type": "stream",
     "text": [
      "Lag=1,Trend=n\n",
      "RMSE-Testset: 0.1478722688976287\n",
      "maPe-Testset: 2854846182748.7407\n",
      "*****************\n",
      "Lag=1,Trend=t\n",
      "RMSE-Testset: 0.1794325168847761\n",
      "maPe-Testset: 5246629744559.526\n",
      "*****************\n",
      "Lag=1,Trend=c\n",
      "RMSE-Testset: 0.13502828531353936\n",
      "maPe-Testset: 4550841378527.06\n",
      "*****************\n",
      "Lag=1,Trend=ct\n",
      "RMSE-Testset: 0.15833188336759174\n",
      "maPe-Testset: 4999120044292.937\n",
      "*****************\n",
      "Lag=2,Trend=n\n",
      "RMSE-Testset: 0.15866200589693372\n",
      "maPe-Testset: 2664110614976.524\n",
      "*****************\n",
      "Lag=2,Trend=t\n",
      "RMSE-Testset: 0.22853228092089742\n",
      "maPe-Testset: 5911101392588.031\n",
      "*****************\n",
      "Lag=2,Trend=c\n",
      "RMSE-Testset: 0.13772267619755077\n",
      "maPe-Testset: 4602917426092.768\n",
      "*****************\n",
      "Lag=2,Trend=ct\n",
      "RMSE-Testset: 0.18956017348885945\n",
      "maPe-Testset: 5491868488840.939\n",
      "*****************\n",
      "Lag=3,Trend=n\n",
      "RMSE-Testset: 0.15798589175183644\n",
      "maPe-Testset: 2676936897268.3413\n",
      "*****************\n",
      "Lag=3,Trend=t\n",
      "RMSE-Testset: 0.22685997659579918\n",
      "maPe-Testset: 5888697247748.453\n",
      "*****************\n",
      "Lag=3,Trend=c\n",
      "RMSE-Testset: 0.1364442738074727\n",
      "maPe-Testset: 4574745332942.835\n",
      "*****************\n",
      "Lag=3,Trend=ct\n",
      "RMSE-Testset: 0.1897638474447663\n",
      "maPe-Testset: 5492654250534.879\n",
      "*****************\n",
      "Lag=4,Trend=n\n",
      "RMSE-Testset: 0.15706423465396713\n",
      "maPe-Testset: 2691780985309.845\n",
      "*****************\n",
      "Lag=4,Trend=t\n",
      "RMSE-Testset: 0.22306076403806874\n",
      "maPe-Testset: 5838323623555.4\n",
      "*****************\n",
      "Lag=4,Trend=c\n",
      "RMSE-Testset: 0.13800096968587902\n",
      "maPe-Testset: 4609709759117.2705\n",
      "*****************\n",
      "Lag=4,Trend=ct\n",
      "RMSE-Testset: 0.18625624494109919\n",
      "maPe-Testset: 5442970604256.063\n",
      "*****************\n"
     ]
    }
   ],
   "source": [
    "from sklearn.metrics import mean_squared_error\n",
    "trends=['n','t','c','ct']\n",
    "lags=[1,2,3,4]\n",
    "from statsmodels.tsa.ar_model import AutoReg\n",
    "for i in lags:\n",
    "    #print(i)\n",
    "    for td in trends:\n",
    "        #print(td)\n",
    "        #trendslist.append(td)\n",
    "        model=AutoReg(X_train, lags=i,trend=td)\n",
    "        model_fit=model.fit()\n",
    "        #make prediction\n",
    "        y_pred=model_fit.predict(len(X_train),len(data1)-1)\n",
    "        #print(y_pred)\n",
    "        #mse=mean_squared_error(y_test,y_pred,squared=False)\n",
    "        from stockFunctions import rmsemape\n",
    "        print(\"Lag={},Trend={}\".format(i,td))\n",
    "        rmsemape(y_test,y_pred)\n",
    "        print(\"*****************\")"
   ]
  },
  {
   "cell_type": "code",
   "execution_count": 35,
   "id": "266c010f",
   "metadata": {},
   "outputs": [
    {
     "data": {
      "text/plain": [
       "396"
      ]
     },
     "execution_count": 35,
     "metadata": {},
     "output_type": "execute_result"
    }
   ],
   "source": [
    "len(y_pred)"
   ]
  },
  {
   "cell_type": "code",
   "execution_count": 36,
   "id": "74b42dbf",
   "metadata": {},
   "outputs": [
    {
     "name": "stdout",
     "output_type": "stream",
     "text": [
      "Lag=1,Trend=ct\n",
      "RMSE-Testset: 0.15833188336759174\n",
      "maPe-Testset: 4999120044292.937\n",
      "***********\n"
     ]
    }
   ],
   "source": [
    "i=1\n",
    "td='ct'\n",
    "model=AutoReg(X_train,lags=i,trend=td)\n",
    "model_fit=model.fit()\n",
    "#make prediction\n",
    "y_pred=model_fit.predict(len(X_train),len(data1)-1)\n",
    "#print(y_pred)\n",
    "from sklearn.metrics import r2_score\n",
    "mse=mean_squared_error(y_test,y_pred,squared=False)\n",
    "from stockFunctions import rmsemape\n",
    "print(\"Lag={},Trend={}\".format(i,td))\n",
    "rmsemape(y_test,y_pred)\n",
    "print(\"***********\")"
   ]
  },
  {
   "cell_type": "code",
   "execution_count": 37,
   "id": "ccd48979",
   "metadata": {},
   "outputs": [
    {
     "data": {
      "image/png": "[encoded data removed]",
      "text/plain": [
       "<Figure size 1000x500 with 1 Axes>"
      ]
     },
     "metadata": {},
     "output_type": "display_data"
    }
   ],
   "source": [
    "from stockFunctions import graph\n",
    "graph(y_test,y_pred,\"Actual\",\"Predicted\",\"TataCoffee-Close-AR-Norm\",\"Days\",\"Prices\")"
   ]
  },
  {
   "cell_type": "code",
   "execution_count": 44,
   "id": "913c32a7",
   "metadata": {},
   "outputs": [
    {
     "name": "stdout",
     "output_type": "stream",
     "text": [
      "RMSE-Testset: 0.3316624790355401\n",
      "maPe-Testset: 0.10000000000000005\n"
     ]
    }
   ],
   "source": [
    "actual_stock_price_test_oriA = [1.0, 2.0, 3.0, 4.0, 5.0]\n",
    "predicted_stock_price_test_oriP = [1.1, 2.2, 3.3, 4.4, 5.5]\n",
    "\n",
    "from stockFunctions import rmsemape\n",
    "rmsemape(actual_stock_price_test_oriA, predicted_stock_price_test_oriP)"
   ]
  },
  {
   "cell_type": "code",
   "execution_count": 45,
   "id": "15def4cf",
   "metadata": {},
   "outputs": [
    {
     "name": "stdout",
     "output_type": "stream",
     "text": [
      "RMSE-Testset: 0.3316624790355401\n",
      "maPe-Testset: 0.10000000000000005\n"
     ]
    }
   ],
   "source": [
    "from stockFunctions import rmsemape\n",
    "rmsemape(actual_stock_price_test_oriA,predicted_stock_price_test_oriP)"
   ]
  },
  {
   "cell_type": "code",
   "execution_count": 46,
   "id": "4d3493bb",
   "metadata": {},
   "outputs": [
    {
     "data": {
      "text/plain": [
       "array([0.48792584, 0.48808289, 0.48823939, 0.48839535])"
      ]
     },
     "execution_count": 46,
     "metadata": {},
     "output_type": "execute_result"
    }
   ],
   "source": [
    "forecast=model_fit.predict(len(data1),len(data1)+3)\n",
    "forecast"
   ]
  },
  {
   "cell_type": "code",
   "execution_count": 47,
   "id": "a3dff276",
   "metadata": {},
   "outputs": [],
   "source": [
    "from stockFunctions import conversionSingle\n",
    "fTestNormTable=conversionSingle(forecast,[\"Closefore\"])\n",
    "forecast_stock_price_test_ori=Ms.inverse_transform(fTestNormTable)\n",
    "forecast_stock_price_test_oriF=conversionSingle(forecast_stock_price_test_ori,[\"closefore\"])"
   ]
  },
  {
   "cell_type": "code",
   "execution_count": 48,
   "id": "a209aefb",
   "metadata": {},
   "outputs": [
    {
     "data": {
      "text/html": [
       "<div>\n",
       "<style scoped>\n",
       "    .dataframe tbody tr th:only-of-type {\n",
       "        vertical-align: middle;\n",
       "    }\n",
       "\n",
       "    .dataframe tbody tr th {\n",
       "        vertical-align: top;\n",
       "    }\n",
       "\n",
       "    .dataframe thead th {\n",
       "        text-align: right;\n",
       "    }\n",
       "</style>\n",
       "<table border=\"1\" class=\"dataframe\">\n",
       "  <thead>\n",
       "    <tr style=\"text-align: right;\">\n",
       "      <th></th>\n",
       "      <th>closefore</th>\n",
       "    </tr>\n",
       "  </thead>\n",
       "  <tbody>\n",
       "    <tr>\n",
       "      <th>0</th>\n",
       "      <td>111.000635</td>\n",
       "    </tr>\n",
       "    <tr>\n",
       "      <th>1</th>\n",
       "      <td>111.020463</td>\n",
       "    </tr>\n",
       "    <tr>\n",
       "      <th>2</th>\n",
       "      <td>111.040221</td>\n",
       "    </tr>\n",
       "    <tr>\n",
       "      <th>3</th>\n",
       "      <td>111.059911</td>\n",
       "    </tr>\n",
       "  </tbody>\n",
       "</table>\n",
       "</div>"
      ],
      "text/plain": [
       "    closefore\n",
       "0  111.000635\n",
       "1  111.020463\n",
       "2  111.040221\n",
       "3  111.059911"
      ]
     },
     "execution_count": 48,
     "metadata": {},
     "output_type": "execute_result"
    }
   ],
   "source": [
    "forecast_stock_price_test_oriF"
   ]
  },
  {
   "cell_type": "code",
   "execution_count": 42,
   "id": "3a2b5ebb",
   "metadata": {},
   "outputs": [],
   "source": [
    "forecast_stock_price_test_oriF.to_csv(\"CloseAR.csv\",index=False)"
   ]
  },
  {
   "cell_type": "code",
   "execution_count": 50,
   "id": "bcc6502e",
   "metadata": {},
   "outputs": [
    {
     "data": {
      "text/plain": [
       "[<matplotlib.lines.Line2D at 0x29d59a57cd0>]"
      ]
     },
     "execution_count": 50,
     "metadata": {},
     "output_type": "execute_result"
    },
    {
     "data": {
      "image/png": "[encoded data removed]",
      "text/plain": [
       "<Figure size 1000x500 with 1 Axes>"
      ]
     },
     "metadata": {},
     "output_type": "display_data"
    }
   ],
   "source": [
    "import matplotlib.pyplot as plt\n",
    "plt.figure(figsize=(10,5))\n",
    "plt.plot(actual_stock_price_test_oriA[116:145],color='blue',label=\"Actual\")\n",
    "plt.plot(forecast_stock_price_test_oriF,color='red',label=\"Predicted\")"
   ]
  },
  {
   "cell_type": "code",
   "execution_count": null,
   "id": "bd6a8bbc",
   "metadata": {},
   "outputs": [],
   "source": [
    "\n"
   ]
  }
 ],
 "metadata": {
  "kernelspec": {
   "display_name": "Python 3 (ipykernel)",
   "language": "python",
   "name": "python3"
  },
  "language_info": {
   "codemirror_mode": {
    "name": "ipython",
    "version": 3
   },
   "file_extension": ".py",
   "mimetype": "text/x-python",
   "name": "python",
   "nbconvert_exporter": "python",
   "pygments_lexer": "ipython3",
   "version": "3.11.5"
  }
 },
 "nbformat": 4,
 "nbformat_minor": 5
}
